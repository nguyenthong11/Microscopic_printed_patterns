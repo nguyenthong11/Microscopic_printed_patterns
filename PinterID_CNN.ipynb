{
 "cells": [
  {
   "cell_type": "code",
   "execution_count": 60,
   "metadata": {},
   "outputs": [],
   "source": [
    "# for loading/processing the images  \n",
    "from keras.preprocessing.image import load_img \n",
    "from keras.preprocessing.image import img_to_array \n",
    "from keras.applications.vgg16 import preprocess_input \n",
    "\n",
    "# models \n",
    "from keras.applications.vgg16 import VGG16 \n",
    "from keras.models import Model\n",
    "\n",
    "# for everything else\n",
    "import os\n",
    "import numpy as np\n",
    "import matplotlib.pyplot as plt\n",
    "from random import randint\n",
    "import pandas as pd"
   ]
  },
  {
   "cell_type": "code",
   "execution_count": 61,
   "metadata": {},
   "outputs": [],
   "source": [
    "name = [str(i+1)+'_dot_gray.bmp' for i in range(100)]"
   ]
  },
  {
   "cell_type": "code",
   "execution_count": 62,
   "metadata": {},
   "outputs": [],
   "source": [
    "path0 = os.getcwd()\n",
    "i = 8 # pattern number\n",
    "cf = str(i)\n",
    "path1 = path0 + \"/conventional_coated_1200dpi/config\"+cf\n",
    "path2 = path0 + \"/conventional_unocated_1200dpi/config\"+cf\n",
    "path3 = path0 + \"/Waterless_coated_1200dpi/config\"+cf\n",
    "path4 = path0 + \"/Waterless_uncoated_1200dpi/config\"+cf\n",
    "path5 = path0 + \"/laser_coated_600dpi/config\"+cf\n",
    "path6 = path0 + \"/laser_uncoated_600dpi/config\"+cf\n",
    "PATHS = [path1,path2,path3,path4,path5,path6]"
   ]
  },
  {
   "cell_type": "code",
   "execution_count": 63,
   "metadata": {},
   "outputs": [],
   "source": [
    "# load the model first and pass as an argument, remove the output layer\n",
    "model = VGG16()\n",
    "model = Model(inputs = model.inputs, outputs = model.layers[-2].output)\n",
    "\n",
    "def extract_features(file, model):\n",
    "    # load the image as a 224x224 array\n",
    "    img = load_img(file, target_size=(224,224), interpolation='bicubic')\n",
    "    # convert to numpy array\n",
    "    img = np.array(img) \n",
    "    # reshape the data for the model reshape(num_of_samples, dim 1, dim 2, channels)\n",
    "    reshaped_img = img.reshape(1,224,224,3)\n",
    "    # prepare image for model\n",
    "    imgx = preprocess_input(reshaped_img)\n",
    "    # get the feature vector\n",
    "    features = model.predict(imgx, use_multiprocessing=True)\n",
    "    return features"
   ]
  },
  {
   "cell_type": "markdown",
   "metadata": {},
   "source": [
    "# ------------- FEATURES EXTRACTION ------------"
   ]
  },
  {
   "cell_type": "code",
   "execution_count": 64,
   "metadata": {},
   "outputs": [],
   "source": [
    "CONFIG = pd.DataFrame()\n",
    "k = 0\n",
    "for path in PATHS:  \n",
    "    # change the working directory to the path where the images are located\n",
    "    os.chdir(path)\n",
    "\n",
    "    # this list holds all the image filename\n",
    "    images = []\n",
    "    # creates a ScandirIterator aliased as files\n",
    "    with os.scandir(path) as files:\n",
    "      # loops through each file in the directory\n",
    "        for file in files:\n",
    "            if any(file.name == s for s in name):\n",
    "                # adds only the image files to the list\n",
    "                images.append(file.name)\n",
    "#     print(f'number of images:{len(images)}')\n",
    "    data = {}\n",
    "    p = path0\n",
    "    # loop through each image in the dataset\n",
    "    for im in images:\n",
    "        # try to extract the features and update the dictionary\n",
    "        feat = extract_features(im,model)\n",
    "        data[im] = feat\n",
    "    # get a list of the filenames\n",
    "    filenames = np.array(list(data.keys()))\n",
    "\n",
    "    # get a list of just the features\n",
    "    feat = np.array(list(data.values()))\n",
    "    # reshape so that there are N images of 4096 vectors\n",
    "    feat = feat.reshape(-1,4096)\n",
    "    feat = pd.DataFrame(data=feat)\n",
    "    feat['label'] = k\n",
    "    CONFIG = CONFIG.append(feat)\n",
    "    k = k+1"
   ]
  },
  {
   "cell_type": "code",
   "execution_count": 65,
   "metadata": {},
   "outputs": [],
   "source": [
    "data = CONFIG.loc[:, (CONFIG != CONFIG.iloc[0]).any()]\n",
    "data = data.reset_index(drop=True)"
   ]
  },
  {
   "cell_type": "markdown",
   "metadata": {},
   "source": [
    "# -----------classifications ------------"
   ]
  },
  {
   "cell_type": "markdown",
   "metadata": {},
   "source": [
    "### split train_data and test_data"
   ]
  },
  {
   "cell_type": "code",
   "execution_count": 81,
   "metadata": {},
   "outputs": [],
   "source": [
    "seed = 101\n",
    "lb0 = data.loc[0:99]\n",
    "lb1 = data.loc[100:199]\n",
    "lb2 = data.loc[200:299]\n",
    "lb3 = data.loc[300:399]\n",
    "lb4 = data.loc[400:499]\n",
    "lb5 = data.loc[500:599]\n",
    "\n",
    "train_lb0 = lb0.sample(frac=0.60, random_state = seed)\n",
    "train_lb1 = lb1.sample(frac=0.60, random_state = seed)\n",
    "train_lb2 = lb2.sample(frac=0.60, random_state = seed)\n",
    "train_lb3 = lb3.sample(frac=0.60, random_state = seed)\n",
    "train_lb4 = lb4.sample(frac=0.60, random_state = seed)\n",
    "train_lb5 = lb5.sample(frac=0.60, random_state = seed)\n",
    "train = pd.concat([train_lb0, train_lb1, train_lb2, train_lb3, train_lb4, train_lb5])\n",
    "\n",
    "test_lb0 = lb0.drop(train_lb0.index)\n",
    "test_lb1 = lb1.drop(train_lb1.index)\n",
    "test_lb2 = lb2.drop(train_lb2.index)\n",
    "test_lb3 = lb3.drop(train_lb3.index)\n",
    "test_lb4 = lb4.drop(train_lb4.index)\n",
    "test_lb5 = lb5.drop(train_lb5.index)\n",
    "test = pd.concat([test_lb0, test_lb1, test_lb2, test_lb3, test_lb4, test_lb5])\n",
    "\n",
    "b = train.shape[1]\n",
    "X_train = train.iloc[:,:(b-1)]\n",
    "y_train = np.ravel(train.iloc[:,(b-1):b])\n",
    "\n",
    "X_test = test.iloc[:,:(b-1)]\n",
    "y_test= np.ravel(test.iloc[:,(b-1):b])"
   ]
  },
  {
   "cell_type": "markdown",
   "metadata": {},
   "source": [
    "### SVM classification"
   ]
  },
  {
   "cell_type": "code",
   "execution_count": 82,
   "metadata": {},
   "outputs": [
    {
     "name": "stdout",
     "output_type": "stream",
     "text": [
      "Accuracy Radial Basis Kernel: 1.0\n",
      "[[40  0  0  0  0  0]\n",
      " [ 0 40  0  0  0  0]\n",
      " [ 0  0 40  0  0  0]\n",
      " [ 0  0  0 40  0  0]\n",
      " [ 0  0  0  0 40  0]\n",
      " [ 0  0  0  0  0 40]]\n"
     ]
    }
   ],
   "source": [
    "from sklearn import svm, datasets\n",
    "from sklearn.metrics import confusion_matrix\n",
    "rbf = svm.SVC(kernel='rbf', gamma='scale', C=1, decision_function_shape='ovo').fit(X_train, y_train)\n",
    "\n",
    "rbf_pred = rbf.predict(X_test)\n",
    "# retrieve the accuracy\n",
    "accuracy_rbf = rbf.score(X_test, y_test)\n",
    "print('Accuracy Radial Basis Kernel:', accuracy_rbf)\n",
    "# creating a confusion matrix\n",
    "cm_rbf = confusion_matrix(y_test, rbf_pred)\n",
    "print(cm_rbf)"
   ]
  },
  {
   "cell_type": "markdown",
   "metadata": {},
   "source": [
    "### Random Forest classification"
   ]
  },
  {
   "cell_type": "code",
   "execution_count": 83,
   "metadata": {},
   "outputs": [
    {
     "name": "stdout",
     "output_type": "stream",
     "text": [
      "Accuracy: 1.0\n",
      "[[40  0  0  0  0  0]\n",
      " [ 0 40  0  0  0  0]\n",
      " [ 0  0 40  0  0  0]\n",
      " [ 0  0  0 40  0  0]\n",
      " [ 0  0  0  0 40  0]\n",
      " [ 0  0  0  0  0 40]]\n"
     ]
    }
   ],
   "source": [
    "from sklearn.ensemble import RandomForestClassifier\n",
    "clf=RandomForestClassifier(n_estimators=100, random_state=seed,\n",
    "                           max_features ='auto',min_samples_split = 2)\n",
    "#Train the model using the training sets\n",
    "clf.fit(X_train,y_train)\n",
    "\n",
    "y_pred=clf.predict(X_test)\n",
    "accuracy = clf.score(X_test, y_test)\n",
    "print('Accuracy:', accuracy)\n",
    "\n",
    "cm = confusion_matrix(y_test, y_pred)\n",
    "print(cm)"
   ]
  }
 ],
 "metadata": {
  "kernelspec": {
   "display_name": "Python 3",
   "language": "python",
   "name": "python3"
  },
  "language_info": {
   "codemirror_mode": {
    "name": "ipython",
    "version": 3
   },
   "file_extension": ".py",
   "mimetype": "text/x-python",
   "name": "python",
   "nbconvert_exporter": "python",
   "pygments_lexer": "ipython3",
   "version": "3.7.9"
  }
 },
 "nbformat": 4,
 "nbformat_minor": 4
}
